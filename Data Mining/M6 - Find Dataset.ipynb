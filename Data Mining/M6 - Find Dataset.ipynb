{
 "cells": [
  {
   "cell_type": "markdown",
   "id": "b7a7e3ec551389cf",
   "metadata": {},
   "source": [
    "# M6 Exercise - Find a Dataset: Davis Zakary\n",
    "I have decided to use a Kaggle dataset pertaining to credit card fraud detection.\n",
    "The [dataset](https://www.kaggle.com/datasets/kelvinobiri/credit-card-transactions/data)\n",
    "contains one CSV file that has ~200k observations.\n",
    "\n",
    "| Column         | Description                                  |\n",
    "|----------------|----------------------------------------------|\n",
    "| step           | Time step of transaction                     |\n",
    "| type           | Type of transaction (transfer, cashout)      |\n",
    "| amount         | Amount involved                              |\n",
    "| nameOrig       | ID of sender account                         |\n",
    "| oldbalanceOrg  | Sender's balance before transaction          |\n",
    "| newbalanceOrig | Sender's balance after transaction           |\n",
    "| nameDest       | ID of receiver account                       |\n",
    "| oldbalanceDest | Receiver's balance before the transaction    |\n",
    "| newbalanceDest | Receiver's balance after the transaction     |\n",
    "| isFraud        | 1 if fraud, 0 otherwise                      |\n",
    "| isPayment      | Indicates if transaction is a payment        |\n",
    "| isMovement     | Indicates if transaction is a balance change |\n",
    "\n",
    "I decided to use this dataset because it has a large number of rows but is small enough to still fit in memory.\n",
    "This just makes everything easier when doing analysis.\n",
    "\n",
    "I also wanted to explore a situation with severe class imbalance.\n",
    "The number of confirmed fraud transactions are very low, which will likely require some kind of resampling technique.\n",
    "It has been a while since I have learned about / used resampling techniques, so I would like to reinforce that skill.\n"
   ]
  },
  {
   "cell_type": "code",
   "execution_count": 26,
   "id": "7f9647b57e20f620",
   "metadata": {
    "ExecuteTime": {
     "end_time": "2025-07-23T00:58:17.245515Z",
     "start_time": "2025-07-23T00:58:16.519667Z"
    }
   },
   "outputs": [],
   "source": [
    "import pandas as pd\n",
    "import matplotlib.pyplot as plt\n",
    "import seaborn as sns\n",
    "import numpy as np"
   ]
  },
  {
   "cell_type": "code",
   "execution_count": 2,
   "id": "edae232618823545",
   "metadata": {
    "ExecuteTime": {
     "end_time": "2025-07-22T23:43:04.912220Z",
     "start_time": "2025-07-22T23:43:04.715427Z"
    }
   },
   "outputs": [
    {
     "name": "stdout",
     "output_type": "stream",
     "text": [
      "<class 'pandas.core.frame.DataFrame'>\n",
      "RangeIndex: 199999 entries, 0 to 199998\n",
      "Data columns (total 10 columns):\n",
      " #   Column          Non-Null Count   Dtype  \n",
      "---  ------          --------------   -----  \n",
      " 0   step            199999 non-null  int64  \n",
      " 1   type            199999 non-null  object \n",
      " 2   amount          199999 non-null  float64\n",
      " 3   nameOrig        199999 non-null  object \n",
      " 4   oldbalanceOrg   199999 non-null  float64\n",
      " 5   newbalanceOrig  199999 non-null  float64\n",
      " 6   nameDest        199999 non-null  object \n",
      " 7   oldbalanceDest  199999 non-null  float64\n",
      " 8   newbalanceDest  199999 non-null  float64\n",
      " 9   isFraud         199999 non-null  int64  \n",
      "dtypes: float64(5), int64(2), object(3)\n",
      "memory usage: 15.3+ MB\n",
      "None\n",
      "   step      type     amount     nameOrig  oldbalanceOrg  newbalanceOrig  \\\n",
      "0     8  CASH_OUT  158007.12   C424875646           0.00            0.00   \n",
      "1   236  CASH_OUT  457948.30  C1342616552           0.00            0.00   \n",
      "2    37   CASH_IN  153602.99   C900876541    11160428.67     11314031.67   \n",
      "3   331  CASH_OUT   49555.14   C177696810       10865.00            0.00   \n",
      "4   250  CASH_OUT   29648.02   C788941490           0.00            0.00   \n",
      "\n",
      "      nameDest  oldbalanceDest  newbalanceDest  isFraud  \n",
      "0  C1298177219       474016.32      1618631.97        0  \n",
      "1  C1323169990      2720411.37      3178359.67        0  \n",
      "2   C608741097      3274930.56      3121327.56        0  \n",
      "3   C462716348            0.00        49555.14        0  \n",
      "4  C1971700992        56933.09        86581.10        0  \n"
     ]
    }
   ],
   "source": [
    "df = pd.read_csv('Data/credit_card_fraud.csv')\n",
    "print(df.info())\n",
    "print(df.head())"
   ]
  },
  {
   "cell_type": "markdown",
   "id": "5fed884da5bddfc5",
   "metadata": {},
   "source": [
    "### Checking Unique Senders and Receivers"
   ]
  },
  {
   "cell_type": "code",
   "execution_count": 9,
   "id": "708b3a28c070d04e",
   "metadata": {
    "ExecuteTime": {
     "end_time": "2025-07-23T00:08:30.722899Z",
     "start_time": "2025-07-23T00:08:30.536682Z"
    }
   },
   "outputs": [
    {
     "name": "stdout",
     "output_type": "stream",
     "text": [
      "199990 174523 374503\n"
     ]
    }
   ],
   "source": [
    "names_o = df['nameOrig'].unique()\n",
    "names_d = df['nameDest'].unique()\n",
    "names = np.unique(np.concat((names_o, names_d)))\n",
    "print(len(names_o), len(names_d), len(names))"
   ]
  },
  {
   "cell_type": "markdown",
   "id": "9e2d9915ca02819",
   "metadata": {},
   "source": [
    "By counting the number of unique \"names\" we can see if any accounts appear multiple times.\n",
    "Here is what we can deduce from the code block above:\n",
    "* Nine observations have non-unique sender names\n",
    "* 25,476 observations have non-unique receiver names\n",
    "* The unique sender and receiver name list only has 10 overlapping values\n",
    "\n",
    "It seems that the transactions in this dataset have been simplified to represent the net effect of multiple transactions.\n",
    "For example, in a raw dataset it might be common to encounter a string of related transactions such as:\n",
    "1. A -> B\n",
    "2. B -> C\n",
    "3. C -> D\n",
    "\n",
    "I speculate that if the data were structured this way at one point, the transactions have since been condensed before being placed into the CSV.\n",
    "Otherwise, we could expect to see many more overlapping values between the sender and receiver lists.\n",
    "In our example above, both B and C would appear on the sender and receiver list.\n",
    "\n",
    "**TLDR:** We should treat the rows as un-linked transactions. No feature engineering needs to be done to help the model capture the idea of a transaction sequence."
   ]
  },
  {
   "cell_type": "markdown",
   "id": "e24227d2c3b5384f",
   "metadata": {},
   "source": [
    "### Checking Repeat Receivers"
   ]
  },
  {
   "cell_type": "code",
   "execution_count": 19,
   "id": "43c8700525caacee",
   "metadata": {
    "ExecuteTime": {
     "end_time": "2025-07-23T00:35:56.457066Z",
     "start_time": "2025-07-23T00:35:56.326120Z"
    }
   },
   "outputs": [
    {
     "name": "stdout",
     "output_type": "stream",
     "text": [
      "             Transactions  Fraud\n",
      "nameDest                        \n",
      "C311901651              5      1\n",
      "C347056727              4      1\n",
      "C677754789              4      1\n",
      "C644345897              4      1\n",
      "C1570256460             4      1\n",
      "C177739457              3      1\n",
      "C1803198527             3      1\n",
      "C43869769               3      1\n",
      "C495237092              3      1\n",
      "C514736179              3      1\n",
      "C641860418              3      1\n",
      "C679714329              2      1\n",
      "C1068088118             2      1\n",
      "C627570303              2      1\n",
      "C1089455271             2      1\n",
      "C614104997              2      1\n",
      "C105806122              2      1\n",
      "C760531323              2      1\n",
      "C385133759              2      1\n",
      "C290920701              2      1\n",
      "C2002380893             2      1\n",
      "C1992468113             2      1\n",
      "C1947737398             2      1\n",
      "C858620596              2      1\n",
      "C125311108              2      1\n",
      "C1812639726             2      1\n",
      "C1808278362             2      1\n",
      "C1779832819             2      1\n",
      "C916183053              2      1\n",
      "C1721246847             2      1\n",
      "C1691662362             2      1\n",
      "C1618701019             2      1\n",
      "C1609905558             2      1\n",
      "C1585189604             2      1\n",
      "C1327141186             2      1\n",
      "C1529468994             2      1\n",
      "C1336335026             2      1\n",
      "C1424624531             2      1\n",
      "C1410026148             2      1\n",
      "C1407010141             2      1\n",
      "C1365109989             2      1\n",
      "C1378644910             2      1\n"
     ]
    }
   ],
   "source": [
    "receivers = df.groupby(by='nameDest').aggregate(\n",
    "    {'step': 'count', 'isFraud': 'sum'}\n",
    ")\n",
    "receivers.columns = ['Transactions', 'Fraud']\n",
    "receivers.sort_values(by='Transactions', ascending=False, inplace=True)\n",
    "mask = (receivers['Transactions'] > 1) & (receivers['Fraud'] > 0)\n",
    "print(receivers[mask])"
   ]
  },
  {
   "cell_type": "code",
   "execution_count": 24,
   "id": "86b1181b744490eb",
   "metadata": {
    "ExecuteTime": {
     "end_time": "2025-07-23T00:41:40.166329Z",
     "start_time": "2025-07-23T00:41:40.162142Z"
    }
   },
   "outputs": [
    {
     "name": "stdout",
     "output_type": "stream",
     "text": [
      "42\n",
      "282\n",
      "0.14893617021276595\n"
     ]
    }
   ],
   "source": [
    "print(mask.sum())\n",
    "print(df['isFraud'].sum())\n",
    "print(mask.sum() / (receivers['Fraud'] > 0).sum())"
   ]
  },
  {
   "cell_type": "markdown",
   "id": "d465550f44d2b99c",
   "metadata": {},
   "source": [
    "It looks like there are a few repeat offenders. 42 accounts are the receiver of fraudulent transactions more than once.\n",
    "Every one of these 42 accounts only commited fraud once, not multiple times.\n",
    "We do not have a strong case to say that committing fraud in the past makes you more likely to do it again.\n",
    "Furthermore, the 42 instances of fraud that were committed by accounts appearning more than once as receivers comprise ~15% of all fraud.\n",
    "\n",
    "**TLDR:** We don't need to consider the possibility of repeat offenders. We can ignore both the sender and receiver account names when building the model."
   ]
  },
  {
   "cell_type": "markdown",
   "id": "25f11c9b5127cde3",
   "metadata": {},
   "source": [
    "### Variable Distributions"
   ]
  },
  {
   "cell_type": "code",
   "execution_count": 25,
   "id": "1bf596b0a37c6c34",
   "metadata": {
    "ExecuteTime": {
     "end_time": "2025-07-23T00:46:49.888181Z",
     "start_time": "2025-07-23T00:46:49.882299Z"
    }
   },
   "outputs": [
    {
     "name": "stdout",
     "output_type": "stream",
     "text": [
      "isFraud\n",
      "0    199717\n",
      "1       282\n",
      "Name: count, dtype: int64\n"
     ]
    }
   ],
   "source": [
    "print(df['isFraud'].value_counts())"
   ]
  },
  {
   "cell_type": "markdown",
   "id": "2843ec3860295dc1",
   "metadata": {},
   "source": [
    "The class imbalance in this dataset is insane, as expected.\n",
    "For every fraudulent transaction, there are millions of others that are legitimate.\n",
    "This dataset reflects that truth, and we will need to use a resampling method such as SMOTE to generate synthetic data.\n",
    "Even with SMOTE, we will likely need to use stratified sampling when creating the test train splits."
   ]
  },
  {
   "cell_type": "code",
   "execution_count": 38,
   "id": "a98e46b80a25f39d",
   "metadata": {
    "ExecuteTime": {
     "end_time": "2025-07-23T01:13:11.697663Z",
     "start_time": "2025-07-23T01:13:11.685221Z"
    }
   },
   "outputs": [
    {
     "name": "stdout",
     "output_type": "stream",
     "text": [
      "           step  isFraud\n",
      "type                    \n",
      "CASH_IN   43919        0\n",
      "CASH_OUT  70571      132\n",
      "DEBIT      1317        0\n",
      "PAYMENT   67562        0\n",
      "TRANSFER  16630      150\n"
     ]
    }
   ],
   "source": [
    "print(df.groupby(by='type').aggregate(\n",
    "    {'step': 'count', 'isFraud': 'sum'}\n",
    "))"
   ]
  },
  {
   "cell_type": "markdown",
   "id": "f8fd1d262bf45f6c",
   "metadata": {},
   "source": [
    "We have absolutely zero instances of fraud for 3/5 transaction types.\n",
    "This may just be an issue with the dataset, or it could actually be a real connection.\n",
    "Maybe fraud cannot occur for debits, payments, or cash_in?\n",
    "If we don't prevent it, the model will very likely pick up on this connection and it will be baked into our classification capabilities.\n",
    "\n",
    "In the future if for some reason we suddenly receive a debit that is fraudulent, the model might autolabel it as non-fraud due to the distribution of our training data."
   ]
  },
  {
   "cell_type": "code",
   "execution_count": 37,
   "id": "c8dfdcdbfc8d1caf",
   "metadata": {
    "ExecuteTime": {
     "end_time": "2025-07-23T01:12:07.517992Z",
     "start_time": "2025-07-23T01:12:07.231172Z"
    }
   },
   "outputs": [
    {
     "data": {
      "image/png": "[encoded data removed]",
      "text/plain": [
       "<Figure size 640x480 with 1 Axes>"
      ]
     },
     "metadata": {},
     "output_type": "display_data"
    }
   ],
   "source": [
    "sns.boxplot(df[df['amount'] <= 500_000], x='type', y='amount', hue='isFraud')\n",
    "plt.show()"
   ]
  },
  {
   "cell_type": "code",
   "execution_count": null,
   "id": "38259796deffc0fe",
   "metadata": {},
   "outputs": [],
   "source": []
  }
 ],
 "metadata": {
  "kernelspec": {
   "display_name": "Python 3 (ipykernel)",
   "language": "python",
   "name": "python3"
  },
  "language_info": {
   "codemirror_mode": {
    "name": "ipython",
    "version": 3
   },
   "file_extension": ".py",
   "mimetype": "text/x-python",
   "name": "python",
   "nbconvert_exporter": "python",
   "pygments_lexer": "ipython3",
   "version": "3.11.2"
  }
 },
 "nbformat": 4,
 "nbformat_minor": 5
}
