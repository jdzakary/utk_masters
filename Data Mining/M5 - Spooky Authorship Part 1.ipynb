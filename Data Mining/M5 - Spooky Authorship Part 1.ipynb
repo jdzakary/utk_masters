{
  "nbformat": 4,
  "nbformat_minor": 0,
  "metadata": {
    "colab": {
      "provenance": [],
      "toc_visible": true
    },
    "kernelspec": {
      "name": "python3",
      "display_name": "Python 3"
    },
    "language_info": {
      "name": "python"
    }
  },
  "cells": [
    {
      "cell_type": "markdown",
      "source": [
        "# Module 5 Team Assignment - Spooky Authorship Part 1\n",
        "Davis Zakary, Cameron Fain, Riley Barklow, Elijah Paulk\n",
        "\n",
        "## Stage 0 - Data Import and Env Setup\n",
        "**Note:** You will need to re-upload the `train.csv` file with every run since Colab wipes your \"disk\" when the runtime terminates.\n",
        "There is an option to link a google drive for persistant storage, but we probably want to avoid that in a group project"
      ],
      "metadata": {
        "id": "BWPLTYmiiSYF"
      }
    },
    {
      "cell_type": "code",
      "source": [
        "import pandas as pd\n",
        "import os\n",
        "\n",
        "# Usefull if you are using windows locally\n",
        "#os.environ['JAVA_HOME'] = r'C:\\Program Files\\Java\\jdk-17'\n",
        "#os.environ['PYSPARK_PYTHON'] = 'python'\n",
        "\n",
        "from pyspark.sql import SparkSession\n",
        "from pyspark.ml.feature import StopWordsRemover, Tokenizer, StringIndexer\n",
        "from pyspark.ml.feature import CountVectorizer, IDF\n",
        "from pyspark.ml.feature import Normalizer\n",
        "from pyspark.ml import Pipeline"
      ],
      "metadata": {
        "id": "w8PQxn_8ieoG"
      },
      "execution_count": null,
      "outputs": []
    },
    {
      "cell_type": "code",
      "source": [
        "spark = SparkSession.builder.getOrCreate()"
      ],
      "metadata": {
        "id": "TH44QPeKnDkW"
      },
      "execution_count": null,
      "outputs": []
    },
    {
      "cell_type": "code",
      "source": [
        "df = pd.read_csv('train.csv')\n",
        "print(df.info())\n",
        "print(df.head())"
      ],
      "metadata": {
        "id": "xcxOEy1qnEtF",
        "colab": {
          "base_uri": "https://localhost:8080/"
        },
        "outputId": "746ceeb7-4f24-45e4-94f1-22eaf220c310"
      },
      "execution_count": null,
      "outputs": [
        {
          "output_type": "stream",
          "name": "stdout",
          "text": [
            "<class 'pandas.core.frame.DataFrame'>\n",
            "RangeIndex: 19579 entries, 0 to 19578\n",
            "Data columns (total 3 columns):\n",
            " #   Column  Non-Null Count  Dtype \n",
            "---  ------  --------------  ----- \n",
            " 0   id      19579 non-null  object\n",
            " 1   text    19579 non-null  object\n",
            " 2   author  19579 non-null  object\n",
            "dtypes: object(3)\n",
            "memory usage: 459.0+ KB\n",
            "None\n",
            "        id                                               text author\n",
            "0  id26305  This process, however, afforded me no means of...    EAP\n",
            "1  id17569  It never once occurred to me that the fumbling...    HPL\n",
            "2  id11008  In his left hand was a gold snuff box, from wh...    EAP\n",
            "3  id27763  How lovely is spring As we looked from Windsor...    MWS\n",
            "4  id12958  Finding nothing else, not even gold, the Super...    HPL\n"
          ]
        }
      ]
    },
    {
      "cell_type": "code",
      "source": [
        "df_spark = spark.createDataFrame(df)\n",
        "df_spark.show(3, truncate=True)\n",
        "df_spark.printSchema()"
      ],
      "metadata": {
        "id": "64-RGBxOnHBn",
        "colab": {
          "base_uri": "https://localhost:8080/"
        },
        "outputId": "45be1120-f7b5-4480-cdd1-9a70b03fa2c3"
      },
      "execution_count": null,
      "outputs": [
        {
          "output_type": "stream",
          "name": "stdout",
          "text": [
            "+-------+--------------------+------+\n",
            "|     id|                text|author|\n",
            "+-------+--------------------+------+\n",
            "|id26305|This process, how...|   EAP|\n",
            "|id17569|It never once occ...|   HPL|\n",
            "|id11008|In his left hand ...|   EAP|\n",
            "+-------+--------------------+------+\n",
            "only showing top 3 rows\n",
            "\n",
            "root\n",
            " |-- id: string (nullable = true)\n",
            " |-- text: string (nullable = true)\n",
            " |-- author: string (nullable = true)\n",
            "\n"
          ]
        }
      ]
    },
    {
      "cell_type": "markdown",
      "source": [
        "## Stages 1 & 2 - Data Preparation and Feature Engineering"
      ],
      "metadata": {
        "id": "EAS2hlTpjYJ2"
      }
    },
    {
      "cell_type": "code",
      "source": [
        "tokenizer = Tokenizer(inputCol=\"text\", outputCol=\"tokens\")\n",
        "stopwords_remover = StopWordsRemover(inputCol=\"tokens\", outputCol=\"filtered_tokens\")\n",
        "vectorizer = CountVectorizer(inputCol=\"filtered_tokens\", outputCol=\"vectorized_tokens\")\n",
        "idf = IDF(inputCol=\"vectorized_tokens\", outputCol=\"tfidf\")\n",
        "normalizer = Normalizer(inputCol=\"tfidf\", outputCol=\"normalized_features\")\n",
        "string_indexer = StringIndexer(inputCol=\"author\", outputCol=\"yLabel\")\n",
        "pipeline = Pipeline(\n",
        "    stages=[tokenizer, stopwords_remover, vectorizer, idf, normalizer, string_indexer]\n",
        ")"
      ],
      "metadata": {
        "id": "H1TWJFvSjdSx"
      },
      "execution_count": null,
      "outputs": []
    },
    {
      "cell_type": "code",
      "source": [
        "df_processed = pipeline.fit(df_spark).transform(df_spark)"
      ],
      "metadata": {
        "id": "zAGLh3JCnMvT"
      },
      "execution_count": null,
      "outputs": []
    },
    {
      "cell_type": "code",
      "source": [
        "print(df_processed.show(1, vertical=True, truncate=40))"
      ],
      "metadata": {
        "id": "5j6Ny91YnOHV",
        "colab": {
          "base_uri": "https://localhost:8080/"
        },
        "outputId": "69f9121d-0248-4b49-d0c5-6eaf7403e05c"
      },
      "execution_count": null,
      "outputs": [
        {
          "output_type": "stream",
          "name": "stdout",
          "text": [
            "-RECORD 0-------------------------------------------------------\n",
            " id                  | id26305                                  \n",
            " text                | This process, however, afforded me no... \n",
            " author              | EAP                                      \n",
            " tokens              | [this, process,, however,, afforded, ... \n",
            " filtered_tokens     | [process,, however,, afforded, means,... \n",
            " vectorized_tokens   | (44722,[4,10,33,48,59,159,162,188,227... \n",
            " tfidf               | (44722,[4,10,33,48,59,159,162,188,227... \n",
            " normalized_features | (44722,[4,10,33,48,59,159,162,188,227... \n",
            " yLabel              | 0.0                                      \n",
            "only showing top 1 row\n",
            "\n",
            "None\n"
          ]
        }
      ]
    },
    {
      "cell_type": "markdown",
      "source": [
        "## Stage 3 - Machine Learning"
      ],
      "metadata": {
        "id": "vj54Jlu1jeOI"
      }
    },
    {
      "cell_type": "code",
      "source": [
        "from pyspark.ml.classification import LinearSVC, OneVsRest\n",
        "from pyspark.ml.tuning import ParamGridBuilder, TrainValidationSplit\n",
        "from pyspark.ml.evaluation import MulticlassClassificationEvaluator"
      ],
      "metadata": {
        "id": "Pj4N4ldVjiYi"
      },
      "execution_count": null,
      "outputs": []
    },
    {
      "cell_type": "code",
      "source": [
        "train_ratio = 0.9\n",
        "seed = 38\n",
        "class_counts = df_processed.groupBy(\"yLabel\").count()\n",
        "class_counts = class_counts.collect()"
      ],
      "metadata": {
        "id": "EckJoK-AzopD"
      },
      "execution_count": null,
      "outputs": []
    },
    {
      "cell_type": "code",
      "source": [
        "print(class_counts)\n",
        "total_count = sum([x['count'] for x in class_counts])\n",
        "print(total_count)"
      ],
      "metadata": {
        "id": "dhqCFQbizrCE",
        "colab": {
          "base_uri": "https://localhost:8080/"
        },
        "outputId": "d69b98f7-9c76-4c53-eb58-68af1ad8bbee"
      },
      "execution_count": null,
      "outputs": [
        {
          "output_type": "stream",
          "name": "stdout",
          "text": [
            "[Row(yLabel=0.0, count=7900), Row(yLabel=1.0, count=6044), Row(yLabel=2.0, count=5635)]\n",
            "19579\n"
          ]
        }
      ]
    },
    {
      "cell_type": "code",
      "source": [
        "print(type(class_counts), type(class_counts[0]))\n",
        "fractions = {row['yLabel']: train_ratio for row in class_counts}\n",
        "print(fractions)"
      ],
      "metadata": {
        "id": "re7DZeoszsRS",
        "colab": {
          "base_uri": "https://localhost:8080/"
        },
        "outputId": "499f433e-1d49-4460-8378-27b2a14430c2"
      },
      "execution_count": null,
      "outputs": [
        {
          "output_type": "stream",
          "name": "stdout",
          "text": [
            "<class 'list'> <class 'pyspark.sql.types.Row'>\n",
            "{0.0: 0.9, 1.0: 0.9, 2.0: 0.9}\n"
          ]
        }
      ]
    },
    {
      "cell_type": "code",
      "source": [
        "train_df = df_processed.sampleBy(\"yLabel\", fractions, seed=seed)\n",
        "test_df = df_processed.subtract(train_df)"
      ],
      "metadata": {
        "id": "8UmLuhASzuQz"
      },
      "execution_count": null,
      "outputs": []
    },
    {
      "cell_type": "code",
      "source": [
        "train_df.groupBy(\"yLabel\").count().show()\n",
        "test_df.groupBy(\"yLabel\").count().show()"
      ],
      "metadata": {
        "id": "TRdE6AhVzwbF",
        "colab": {
          "base_uri": "https://localhost:8080/"
        },
        "outputId": "0a04d8ce-d268-4dee-bc05-bb265b73a381"
      },
      "execution_count": null,
      "outputs": [
        {
          "output_type": "stream",
          "name": "stdout",
          "text": [
            "+------+-----+\n",
            "|yLabel|count|\n",
            "+------+-----+\n",
            "|   0.0| 7099|\n",
            "|   1.0| 5450|\n",
            "|   2.0| 5079|\n",
            "+------+-----+\n",
            "\n",
            "+------+-----+\n",
            "|yLabel|count|\n",
            "+------+-----+\n",
            "|   0.0|  801|\n",
            "|   1.0|  594|\n",
            "|   2.0|  556|\n",
            "+------+-----+\n",
            "\n"
          ]
        }
      ]
    },
    {
      "cell_type": "code",
      "source": [
        "train_df.cache()\n",
        "test_df.cache()"
      ],
      "metadata": {
        "id": "oRT0D418zx0m",
        "colab": {
          "base_uri": "https://localhost:8080/"
        },
        "outputId": "9ef7cf24-0b20-48aa-a1eb-557df4efc81e"
      },
      "execution_count": null,
      "outputs": [
        {
          "output_type": "execute_result",
          "data": {
            "text/plain": [
              "DataFrame[id: string, text: string, author: string, tokens: array<string>, filtered_tokens: array<string>, vectorized_tokens: vector, tfidf: vector, normalized_features: vector, yLabel: double]"
            ]
          },
          "metadata": {},
          "execution_count": 15
        }
      ]
    },
    {
      "cell_type": "code",
      "source": [
        "svm = LinearSVC()\n",
        "svm.setMaxIter(10)\n",
        "svm.setParams(\n",
        "    featuresCol=\"normalized_features\",\n",
        "    labelCol=\"yLabel\",\n",
        "    predictionCol=\"prediction\",\n",
        ")\n",
        "\n",
        "ovr = OneVsRest(\n",
        "    classifier=svm,\n",
        "    labelCol=\"yLabel\",\n",
        "    featuresCol=\"normalized_features\",\n",
        "    predictionCol=\"prediction\",\n",
        ")\n",
        "\n",
        "evaluator = MulticlassClassificationEvaluator(\n",
        "        labelCol=\"yLabel\",\n",
        "        predictionCol=\"prediction\",\n",
        "        metricName=\"accuracy\",\n",
        "    )\n",
        "\n",
        "paramGrid = (\n",
        "    ParamGridBuilder()\n",
        "    .addGrid(svm.regParam, [0.1, 0.05, 0.01])\n",
        "    .build()\n",
        ")\n",
        "tvs = TrainValidationSplit(\n",
        "    estimator=ovr,\n",
        "    estimatorParamMaps=paramGrid,\n",
        "    evaluator=evaluator,\n",
        "    trainRatio=0.8,\n",
        "    seed=42\n",
        ")"
      ],
      "metadata": {
        "id": "oDvEXTF0z2Lh"
      },
      "execution_count": null,
      "outputs": []
    },
    {
      "cell_type": "code",
      "source": [
        "model = tvs.fit(train_df)"
      ],
      "metadata": {
        "id": "K47YImWMz30_"
      },
      "execution_count": null,
      "outputs": []
    },
    {
      "cell_type": "code",
      "source": [
        "predictions = model.transform(test_df)\n",
        "score = evaluator.evaluate(predictions)\n",
        "print(f\"Test set accuracy: {score}\")"
      ],
      "metadata": {
        "id": "AgqthGqr0JUC",
        "colab": {
          "base_uri": "https://localhost:8080/"
        },
        "outputId": "d631414a-11d6-46ec-9c32-13017f72e4d1"
      },
      "execution_count": null,
      "outputs": [
        {
          "output_type": "stream",
          "name": "stdout",
          "text": [
            "Test set accuracy: 0.8077908764736033\n"
          ]
        }
      ]
    },
    {
      "cell_type": "code",
      "source": [
        "from pyspark.mllib.evaluation import MulticlassMetrics\n",
        "from pyspark.ml.feature import VectorAssembler\n",
        "\n",
        "assembler = VectorAssembler(inputCols=[\"prediction\", \"yLabel\"], outputCol=\"predictions_labels_pair\")\n",
        "mcmetrics_df = assembler.transform(predictions)\n",
        "\n",
        "#mcmetrics_df.show()\n",
        "predictions_labels_pair = mcmetrics_df.select(\"predictions_labels_pair\")\n",
        "predictions_labels_pair.show()\n",
        "mcmetrics = MulticlassMetrics(predictions_labels_pair)\n",
        "confusion_matrix = mcmetrics.confusionMatrix()\n",
        "\n",
        "print(confusion_matrix)"
      ],
      "metadata": {
        "id": "oeSW5yAb04UE",
        "colab": {
          "base_uri": "https://localhost:8080/",
          "height": 807
        },
        "outputId": "1a6cfb46-c6a2-4154-d191-5b76b6d04ad5"
      },
      "execution_count": null,
      "outputs": [
        {
          "output_type": "stream",
          "name": "stdout",
          "text": [
            "+-----------------------+\n",
            "|predictions_labels_pair|\n",
            "+-----------------------+\n",
            "|              [1.0,1.0]|\n",
            "|              (2,[],[])|\n",
            "|              [1.0,1.0]|\n",
            "|              (2,[],[])|\n",
            "|              [0.0,1.0]|\n",
            "|              (2,[],[])|\n",
            "|              [1.0,1.0]|\n",
            "|              [1.0,1.0]|\n",
            "|              (2,[],[])|\n",
            "|              (2,[],[])|\n",
            "|              [1.0,0.0]|\n",
            "|              (2,[],[])|\n",
            "|              (2,[],[])|\n",
            "|              [2.0,2.0]|\n",
            "|              [0.0,1.0]|\n",
            "|              [2.0,2.0]|\n",
            "|              (2,[],[])|\n",
            "|              [1.0,2.0]|\n",
            "|              (2,[],[])|\n",
            "|              [0.0,1.0]|\n",
            "+-----------------------+\n",
            "only showing top 20 rows\n",
            "\n"
          ]
        },
        {
          "output_type": "error",
          "ename": "AttributeError",
          "evalue": "'DataFrame' object has no attribute 'ctx'",
          "traceback": [
            "\u001b[0;31m---------------------------------------------------------------------------\u001b[0m",
            "\u001b[0;31mAttributeError\u001b[0m                            Traceback (most recent call last)",
            "\u001b[0;32m/tmp/ipython-input-25-409205312.py\u001b[0m in \u001b[0;36m<cell line: 0>\u001b[0;34m()\u001b[0m\n\u001b[1;32m      8\u001b[0m \u001b[0mpredictions_labels_pair\u001b[0m \u001b[0;34m=\u001b[0m \u001b[0mmcmetrics_df\u001b[0m\u001b[0;34m.\u001b[0m\u001b[0mselect\u001b[0m\u001b[0;34m(\u001b[0m\u001b[0;34m\"predictions_labels_pair\"\u001b[0m\u001b[0;34m)\u001b[0m\u001b[0;34m\u001b[0m\u001b[0;34m\u001b[0m\u001b[0m\n\u001b[1;32m      9\u001b[0m \u001b[0mpredictions_labels_pair\u001b[0m\u001b[0;34m.\u001b[0m\u001b[0mshow\u001b[0m\u001b[0;34m(\u001b[0m\u001b[0;34m)\u001b[0m\u001b[0;34m\u001b[0m\u001b[0;34m\u001b[0m\u001b[0m\n\u001b[0;32m---> 10\u001b[0;31m \u001b[0mmcmetrics\u001b[0m \u001b[0;34m=\u001b[0m \u001b[0mMulticlassMetrics\u001b[0m\u001b[0;34m(\u001b[0m\u001b[0mpredictions_labels_pair\u001b[0m\u001b[0;34m)\u001b[0m\u001b[0;34m\u001b[0m\u001b[0;34m\u001b[0m\u001b[0m\n\u001b[0m\u001b[1;32m     11\u001b[0m \u001b[0mconfusion_matrix\u001b[0m \u001b[0;34m=\u001b[0m \u001b[0mmcmetrics\u001b[0m\u001b[0;34m.\u001b[0m\u001b[0mconfusionMatrix\u001b[0m\u001b[0;34m(\u001b[0m\u001b[0;34m)\u001b[0m\u001b[0;34m\u001b[0m\u001b[0;34m\u001b[0m\u001b[0m\n\u001b[1;32m     12\u001b[0m \u001b[0;34m\u001b[0m\u001b[0m\n",
            "\u001b[0;32m/usr/local/lib/python3.11/dist-packages/pyspark/mllib/evaluation.py\u001b[0m in \u001b[0;36m__init__\u001b[0;34m(self, predictionAndLabels)\u001b[0m\n\u001b[1;32m    284\u001b[0m \u001b[0;34m\u001b[0m\u001b[0m\n\u001b[1;32m    285\u001b[0m     \u001b[0;32mdef\u001b[0m \u001b[0m__init__\u001b[0m\u001b[0;34m(\u001b[0m\u001b[0mself\u001b[0m\u001b[0;34m,\u001b[0m \u001b[0mpredictionAndLabels\u001b[0m\u001b[0;34m:\u001b[0m \u001b[0mRDD\u001b[0m\u001b[0;34m[\u001b[0m\u001b[0mTuple\u001b[0m\u001b[0;34m[\u001b[0m\u001b[0mfloat\u001b[0m\u001b[0;34m,\u001b[0m \u001b[0mfloat\u001b[0m\u001b[0;34m]\u001b[0m\u001b[0;34m]\u001b[0m\u001b[0;34m)\u001b[0m\u001b[0;34m:\u001b[0m\u001b[0;34m\u001b[0m\u001b[0;34m\u001b[0m\u001b[0m\n\u001b[0;32m--> 286\u001b[0;31m         \u001b[0msc\u001b[0m \u001b[0;34m=\u001b[0m \u001b[0mpredictionAndLabels\u001b[0m\u001b[0;34m.\u001b[0m\u001b[0mctx\u001b[0m\u001b[0;34m\u001b[0m\u001b[0;34m\u001b[0m\u001b[0m\n\u001b[0m\u001b[1;32m    287\u001b[0m         \u001b[0msql_ctx\u001b[0m \u001b[0;34m=\u001b[0m \u001b[0mSQLContext\u001b[0m\u001b[0;34m.\u001b[0m\u001b[0mgetOrCreate\u001b[0m\u001b[0;34m(\u001b[0m\u001b[0msc\u001b[0m\u001b[0;34m)\u001b[0m\u001b[0;34m\u001b[0m\u001b[0;34m\u001b[0m\u001b[0m\n\u001b[1;32m    288\u001b[0m         \u001b[0mnumCol\u001b[0m \u001b[0;34m=\u001b[0m \u001b[0mlen\u001b[0m\u001b[0;34m(\u001b[0m\u001b[0mpredictionAndLabels\u001b[0m\u001b[0;34m.\u001b[0m\u001b[0mfirst\u001b[0m\u001b[0;34m(\u001b[0m\u001b[0;34m)\u001b[0m\u001b[0;34m)\u001b[0m\u001b[0;34m\u001b[0m\u001b[0;34m\u001b[0m\u001b[0m\n",
            "\u001b[0;32m/usr/local/lib/python3.11/dist-packages/pyspark/sql/dataframe.py\u001b[0m in \u001b[0;36m__getattr__\u001b[0;34m(self, name)\u001b[0m\n\u001b[1;32m   3125\u001b[0m         \"\"\"\n\u001b[1;32m   3126\u001b[0m         \u001b[0;32mif\u001b[0m \u001b[0mname\u001b[0m \u001b[0;32mnot\u001b[0m \u001b[0;32min\u001b[0m \u001b[0mself\u001b[0m\u001b[0;34m.\u001b[0m\u001b[0mcolumns\u001b[0m\u001b[0;34m:\u001b[0m\u001b[0;34m\u001b[0m\u001b[0;34m\u001b[0m\u001b[0m\n\u001b[0;32m-> 3127\u001b[0;31m             raise AttributeError(\n\u001b[0m\u001b[1;32m   3128\u001b[0m                 \u001b[0;34m\"'%s' object has no attribute '%s'\"\u001b[0m \u001b[0;34m%\u001b[0m \u001b[0;34m(\u001b[0m\u001b[0mself\u001b[0m\u001b[0;34m.\u001b[0m\u001b[0m__class__\u001b[0m\u001b[0;34m.\u001b[0m\u001b[0m__name__\u001b[0m\u001b[0;34m,\u001b[0m \u001b[0mname\u001b[0m\u001b[0;34m)\u001b[0m\u001b[0;34m\u001b[0m\u001b[0;34m\u001b[0m\u001b[0m\n\u001b[1;32m   3129\u001b[0m             )\n",
            "\u001b[0;31mAttributeError\u001b[0m: 'DataFrame' object has no attribute 'ctx'"
          ]
        }
      ]
    },
    {
      "cell_type": "markdown",
      "source": [
        "## Stage 4 - Evaluation and Visualization"
      ],
      "metadata": {
        "id": "ZFhvMXwPAVqL"
      }
    },
    {
      "cell_type": "code",
      "source": [
        "from sklearn.metrics import confusion_matrix, classification_report\n",
        "import matplotlib.pyplot as plt\n",
        "import seaborn as sns\n",
        "import numpy as np\n",
        "\n",
        "#Convert predictions to Pandas\n",
        "preds_pd = predictions.select(\"yLabel\", \"prediction\").toPandas()\n",
        "\n",
        "#Print metrics\n",
        "print(\"Classification Report:\")\n",
        "print(classification_report(preds_pd['yLabel'], preds_pd['prediction']))\n",
        "\n",
        "#Plot confusion matrix\n",
        "cm = confusion_matrix(preds_pd['yLabel'], preds_pd['prediction'])\n",
        "plt.figure(figsize=(6, 5))\n",
        "sns.heatmap(cm, annot=True, fmt=\"d\", cmap=\"Blues\")\n",
        "plt.title(\"Confusion Matrix\")\n",
        "plt.xlabel(\"Predicted\")\n",
        "plt.ylabel(\"Actual\")\n",
        "plt.tight_layout()\n",
        "plt.show()\n",
        "\n",
        "#Check out top TF-IDF features\n",
        "vocab = pipeline.stages[2].vocabulary\n",
        "idf_vals = pipeline.stages[3].idf.toArray()\n",
        "top_idx = np.argsort(idf_vals)[-10:][::-1]\n",
        "top_words = [(vocab[i], idf_vals[i]) for i in top_idx]\n",
        "\n",
        "print(\"Top 10 High-IDF Words:\")\n",
        "for word, val in top_words:\n",
        "    print(f\"{word}: {val:.4f}\")\n",
        "\n",
        "# Quick summary\n",
        "print(\"\\nSummary:\")\n",
        "print(\"\")"
      ],
      "metadata": {
        "id": "fyYj4jcoaUim",
        "colab": {
          "base_uri": "https://localhost:8080/",
          "height": 892
        },
        "outputId": "a11a43a1-9ff2-4e95-f724-aa60202b6a5c"
      },
      "execution_count": null,
      "outputs": [
        {
          "output_type": "stream",
          "name": "stdout",
          "text": [
            "Classification Report:\n",
            "              precision    recall  f1-score   support\n",
            "\n",
            "         0.0       0.84      0.79      0.81       801\n",
            "         1.0       0.75      0.82      0.78       594\n",
            "         2.0       0.84      0.81      0.83       556\n",
            "\n",
            "    accuracy                           0.81      1951\n",
            "   macro avg       0.81      0.81      0.81      1951\n",
            "weighted avg       0.81      0.81      0.81      1951\n",
            "\n"
          ]
        },
        {
          "output_type": "display_data",
          "data": {
            "text/plain": [
              "<Figure size 600x500 with 2 Axes>"
            ],
            "image/png": "[encoded data removed]"
          },
          "metadata": {}
        },
        {
          "output_type": "error",
          "ename": "TypeError",
          "evalue": "'Param' object is not subscriptable",
          "traceback": [
            "\u001b[0;31m---------------------------------------------------------------------------\u001b[0m",
            "\u001b[0;31mTypeError\u001b[0m                                 Traceback (most recent call last)",
            "\u001b[0;32m/tmp/ipython-input-20-3157848506.py\u001b[0m in \u001b[0;36m<cell line: 0>\u001b[0;34m()\u001b[0m\n\u001b[1;32m     24\u001b[0m \u001b[0;34m\u001b[0m\u001b[0m\n\u001b[1;32m     25\u001b[0m \u001b[0;31m#Check out top TF-IDF features\u001b[0m\u001b[0;34m\u001b[0m\u001b[0;34m\u001b[0m\u001b[0m\n\u001b[0;32m---> 26\u001b[0;31m \u001b[0mvocab\u001b[0m \u001b[0;34m=\u001b[0m \u001b[0mpipeline\u001b[0m\u001b[0;34m.\u001b[0m\u001b[0mstages\u001b[0m\u001b[0;34m[\u001b[0m\u001b[0;36m2\u001b[0m\u001b[0;34m]\u001b[0m\u001b[0;34m.\u001b[0m\u001b[0mvocabulary\u001b[0m\u001b[0;34m\u001b[0m\u001b[0;34m\u001b[0m\u001b[0m\n\u001b[0m\u001b[1;32m     27\u001b[0m \u001b[0midf_vals\u001b[0m \u001b[0;34m=\u001b[0m \u001b[0mpipeline\u001b[0m\u001b[0;34m.\u001b[0m\u001b[0mstages\u001b[0m\u001b[0;34m[\u001b[0m\u001b[0;36m3\u001b[0m\u001b[0;34m]\u001b[0m\u001b[0;34m.\u001b[0m\u001b[0midf\u001b[0m\u001b[0;34m.\u001b[0m\u001b[0mtoArray\u001b[0m\u001b[0;34m(\u001b[0m\u001b[0;34m)\u001b[0m\u001b[0;34m\u001b[0m\u001b[0;34m\u001b[0m\u001b[0m\n\u001b[1;32m     28\u001b[0m \u001b[0mtop_idx\u001b[0m \u001b[0;34m=\u001b[0m \u001b[0mnp\u001b[0m\u001b[0;34m.\u001b[0m\u001b[0margsort\u001b[0m\u001b[0;34m(\u001b[0m\u001b[0midf_vals\u001b[0m\u001b[0;34m)\u001b[0m\u001b[0;34m[\u001b[0m\u001b[0;34m-\u001b[0m\u001b[0;36m10\u001b[0m\u001b[0;34m:\u001b[0m\u001b[0;34m]\u001b[0m\u001b[0;34m[\u001b[0m\u001b[0;34m:\u001b[0m\u001b[0;34m:\u001b[0m\u001b[0;34m-\u001b[0m\u001b[0;36m1\u001b[0m\u001b[0;34m]\u001b[0m\u001b[0;34m\u001b[0m\u001b[0;34m\u001b[0m\u001b[0m\n",
            "\u001b[0;31mTypeError\u001b[0m: 'Param' object is not subscriptable"
          ]
        }
      ]
    },
    {
      "cell_type": "markdown",
      "source": [
        "### Quick Summary of Results\n",
        "Accuracy was solid across the board.\n",
        "The confusion matrix shows most predictions landed in the right spot, though there’s a bit of confusion between authors.\n",
        "The TF-IDF scores give us a hint at which words helped the model the most.\n",
        "If we keep going, I’d look into adding lemmatization and trying a different classifier.\n",
        "\n",
        "We could also try more hyperparameter tuning and k-fold validation for the SVC Model. For this excersice, weighted accuracy of 0.8 satisfies the threshold set by the instruction with relativley little tuning."
      ],
      "metadata": {
        "id": "SDJNZvp2_5BS"
      }
    },
    {
      "cell_type": "code",
      "source": [],
      "metadata": {
        "id": "_SEOdI5FASJU"
      },
      "execution_count": null,
      "outputs": []
    }
  ]
}