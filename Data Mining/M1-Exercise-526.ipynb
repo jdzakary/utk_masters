{
 "cells": [
  {
   "cell_type": "markdown",
   "id": "cs55wtGeEV7u",
   "metadata": {
    "id": "cs55wtGeEV7u"
   },
   "source": [
    "# **M.1.Introduction to data mining** - Davis Zakary\n",
    "## **Exercise.M.1** - Python Warmup\n",
    "### **Overview and Directions**\n",
    "* Practice importing and parsing information. \n",
    "* Focus on learning and solving versus coding perfectly.  \n",
    "* Perform tasks without assistance from clever sources.  \n",
    "\n",
    "#### **Desired outcomes**  \n",
    "- Experience open, read, and writing of external delimited files.  \n",
    "- Navigate basic text mining preprocessing like white space stripping.  \n",
    "- Refresh expereience with iterator, conditionals, and functions.  \n",
    "\n",
    "#### **Additional Resources**  \n",
    "- course [Python reference.library.Cosc.526.pdf](https://github.com/cosc-526/cosc.526.home.page/blob/main/reference.library.COSC.526.pdf)  \n",
    "=> contains a deep and wide index of essential Python coding.  \n",
    "- Bookmark the masters of text preprocessing  \n",
    "=> [Jurafsky and Martin, Speech and Language Processing](https://web.stanford.edu/~jurafsky/slp3/)  \n",
    "=> additional quality textbook on classical text mining  \n",
    "=> [Wiess,S.,Indurkhya,N.,Zhang,T.,(2015), Fundamentals of predictive text mining, 2nd, Springer.](https://www.amazon.com/Fundamentals-Predictive-Mining-Computer-Science/dp/144716749X/ref=sr_1_1?crid=MUA7UG21IFPD&keywords=Wiess%2CS.%2CIndurkhya%2CN.%2CZhang%2CT.%2C%282015%29%2C+Fundamentals+of+predictive+text+mining%2C+2nd%2C+Springer&qid=1685151591&sprefix=wiess%2Cs.%2Cindurkhya%2Cn.%2Czhang%2Ct.%2C+2015+%2C+fundamentals+of+predictive+text+mining%2C+2nd%2C+springer%2Caps%2C78&sr=8-1)\n",
    "\n",
    "### **Task.1**  - comma-separated values (.csv)\n",
    "Reading and parsing [delimiter-separated values](https://en.wikipedia.org/wiki/Delimiter-separated_values) files like [comma-separated](https://en.wikipedia.org/wiki/Comma-separated_values) and [tab-separated values](https://en.wikipedia.org/wiki/Tab-separated_values) is a regular data science preprocessing activity. It is typically acceptable to request either file format for analysis activities.    \n",
    "- *.csv* files store tabular data like numbers and text in a plain text format. \n",
    "- Plain text may include text, white spaces, carriage returns, transliterals, and other artifacts.    \n",
    "- Each row, or data record, contains a value or nothing. A comma separates each.    \n",
    "\n",
    "**Tasks**  \n",
    "0. Read in the Nobel prize winners name and age data: [data.M.1.exercise.csv](https://github.com/cosc-526/home.page/blob/main/data.M.1.exercise.csv)  \n",
    "=> data is in class github. Read however you like!  \n",
    "1. Generate a single value for the total number of rows of data.\n",
    "2. Generate a single value for the total number of columns of data.  \n",
    "3. Calculate the laureates average age as a datatype float.  \n",
    "4. Solution structured as a user defined function (def) but doing so not required.   \n",
    "5. hint  \n",
    ".> use library `import requests` to read numerics from a url  \n",
    "=> mydata = requests.get(file_url)  \n",
    "==> if mydata.status_code == 200:  #200 = code for a successful request  \n",
    "====> do something with lines\n",
    "\n",
    "**Useful links**  \n",
    "- [Ch.16, Importing Data, Python.Crash.Course, Matthes](https://github.com/cosc-526/cosc.526.home.page/blob/main/textbook.Python.crash.course.matthes.pdf)  \n",
    "[open](https://docs.python.org/3.6/library/functions.html#open), \n",
    "[readlines](https://docs.python.org/3.6/library/codecs.html#codecs.StreamReader.readlines), [rstrip](https://docs.python.org/3.6/library/stdtypes.html#str.rstrip), [list comprehension](https://docs.python.org/3/tutorial/datastructures.html#list-comprehensions), [split](https://docs.python.org/3.6/library/stdtypes.html#str.split), [splice](https://docs.python.org/3.6/glossary.html#term-slice), [\"list.love\"](https://docs.python.org/3.6/tutorial/datastructures.html#more-on-lists), [len](https://docs.python.org/3.6/library/functions.html#len), [int](https://docs.python.org/3.6/library/functions.html#int), [format](https://docs.python.org/3.6/library/stdtypes.html#str.format)"
   ]
  },
  {
   "cell_type": "code",
   "execution_count": 1,
   "id": "Azp65ID2UV9X",
   "metadata": {
    "ExecuteTime": {
     "end_time": "2025-06-13T15:08:43.118385300Z",
     "start_time": "2025-06-13T15:08:42.266495400Z"
    },
    "id": "Azp65ID2UV9X"
   },
   "outputs": [],
   "source": [
    "import pandas as pd"
   ]
  },
  {
   "cell_type": "code",
   "execution_count": 2,
   "id": "88bf3b9fecf61679",
   "metadata": {
    "ExecuteTime": {
     "end_time": "2025-06-13T15:15:48.402694200Z",
     "start_time": "2025-06-13T15:15:48.089060800Z"
    },
    "collapsed": false,
    "jupyter": {
     "outputs_hidden": false
    }
   },
   "outputs": [
    {
     "name": "stdout",
     "output_type": "stream",
     "text": [
      "Number of rows: 8\n",
      "Number of cols: 3\n",
      "Average Age: 70.875\n"
     ]
    }
   ],
   "source": [
    "url = 'https://raw.githubusercontent.com/cosc-526/home.page/refs/heads/main/data.M.1.exercise.csv'\n",
    "df = pd.read_csv(url)\n",
    "print(f'Number of rows: {len(df)}')\n",
    "print(f'Number of cols: {df.shape[1]}')\n",
    "print(f'Average Age: {df[\"age\"].mean():.3f}')"
   ]
  },
  {
   "cell_type": "markdown",
   "id": "XpY0qD0rIsz3",
   "metadata": {
    "id": "XpY0qD0rIsz3"
   },
   "source": [
    "**Task.1 Expected ouput**\n",
    "```\n",
    "Number of rows of data: 8\n",
    "Number of cols: 3\n",
    "Average Age: 70.875\n",
    "```\n",
    "### **Task.2** - tab-separated values (.tsv)\n",
    "A [tab-separated value (.tsv)](https://en.wikipedia.org/wiki/Tab-separated_values) format is a delimiter-separated value for storing data in a tabular structure like a database table or spreadsheet. Other characteristics include,    \n",
    "- Used to exchange information between databases.\n",
    "- Each record in the table is one line of the text file.\n",
    "- Fields are distinct in a record when separated by the tab character **`\\t`**\n",
    "\n",
    "**Tasks**\n",
    "0. [data.exercise.M.1.tsv](https://github.com/cosc-526/home.page/blob/main/data.M.1.exercise.tsv) => data is in class github. Read however you like!  \n",
    "1. Repeat Task.1 using the .tsv file.  \n",
    "2. The order and data in columns have changed.  \n",
    "3. If you hardcoded the \"age\" column, research and describe alternative code to alleviate fixed positional indexes.  \n",
    "\n",
    "**Useful links**  \n",
    "- [Python docs - csv file reading and writing](https://docs.python.org/3/library/csv.html#module-csv) \n",
    "- Python handles .tsv files using its \"delimiter\" parameter, \"\\t\"  "
   ]
  },
  {
   "cell_type": "code",
   "execution_count": 3,
   "id": "0ODxd_9HTCy9",
   "metadata": {
    "ExecuteTime": {
     "end_time": "2025-06-13T15:17:31.717816100Z",
     "start_time": "2025-06-13T15:17:31.416154600Z"
    },
    "id": "0ODxd_9HTCy9"
   },
   "outputs": [
    {
     "name": "stdout",
     "output_type": "stream",
     "text": [
      "Number of rows: 8\n",
      "Number of cols: 3\n",
      "Average Age: 70.875\n"
     ]
    }
   ],
   "source": [
    "url = 'https://raw.githubusercontent.com/cosc-526/home.page/refs/heads/main/data.M.1.exercise.tsv'\n",
    "df = pd.read_csv(url, delimiter='\\t')\n",
    "print(f'Number of rows: {len(df)}')\n",
    "print(f'Number of cols: {df.shape[1]}')\n",
    "print(f'Average Age: {df[\"age\"].mean():.3f}')"
   ]
  },
  {
   "cell_type": "markdown",
   "id": "_9HmDoDjTNgi",
   "metadata": {
    "id": "_9HmDoDjTNgi"
   },
   "source": [
    "**Task.2 Expected output**\n",
    "```\n",
    "Number of rows of data: 8\n",
    "Number of cols: 3\n",
    "Average Age: 70.875\n",
    "```\n",
    "\n",
    "### **Task.3** - Convert diacritics (ä, ö) to ASCII\n",
    "- Download [data.M.1.exercise.csv](https://github.com/cosc-526/home.page/blob/main/data.M.1.exercise.csv) and right click on the file to view in Notepad.   \n",
    "=> Observe the Unicode non-English letters in laureates' names like the two dots over the letter \"o\" in \"Schrödinger.\"\n",
    "- Learn about [Unicode](https://en.wikipedia.org/wiki/Unicode) character standards for representing different types and forms of text.  \n",
    "- Grok that Python 3 [natively supports](https://docs.python.org/3/howto/unicode.html) Unicode, but many tools don't.\n",
    "- Conversion of Unicode to [ASCII](https://en.wikipedia.org/wiki/ASCII) formatting is often necessary in data preprocessing.  \n",
    "\n",
    "**Tasks**\n",
    "0. Read this article on diacritics conversion (e.g., \"ü\" → \"ue\"); [transliteration](https://german.stackexchange.com/questions/4992/conversion-table-for-diacritics-e-g-%C3%BC-%E2%86%92-ue).  \n",
    "1. data = [data.M.1.exercise.csv](https://github.com/cosc-526/home.page/blob/main/data.M.1.exercise.csv)  \n",
    "=> provided example reads directly from github\n",
    "2. Analyze and run code block with a dictionary matching Unicode character \"keys\" to their ASCII transliteration \"value.\"\n",
    "=> as a refresher, a dictionary is defined as mydict = { key:value }\n",
    "3. For labeled code sections #3.1 to 3.9, explain succinctly what the code is accomplishing and whether you are or are not familiar with it.  \n",
    "4. Create your inventory mechanism to store this, and more, code blocks.  \n",
    "\n",
    "***More useful links***\n",
    "- [1: replace](https://docs.python.org/3.6/library/stdtypes.html#str.replace), [2: file object methods](https://docs.python.org/3/tutorial/inputoutput.html#methods-of-file-objects),\n"
   ]
  },
  {
   "cell_type": "code",
   "execution_count": 4,
   "id": "XnJm4ImJDSgW",
   "metadata": {
    "ExecuteTime": {
     "end_time": "2025-06-13T15:54:56.669855900Z",
     "start_time": "2025-06-13T15:54:56.246240600Z"
    },
    "colab": {
     "base_uri": "https://localhost:8080/"
    },
    "id": "XnJm4ImJDSgW",
    "outputId": "0e497da6-c3ee-44fc-98db-f4c5056a3ced"
   },
   "outputs": [
    {
     "name": "stdout",
     "output_type": "stream",
     "text": [
      "Richard Phillips Feynman\n",
      "Shin'ichiro Tomonaga\n",
      "Julian Schwinger\n",
      "Rudolf Ludwig Moessbauer\n",
      "Erwin Schroedinger\n",
      "Paul Dirac\n",
      "Maria Sklodowska-Curie\n",
      "Pierre Curie\n"
     ]
    }
   ],
   "source": [
    "import requests\n",
    "\n",
    "translit_dict = {\n",
    "    \"ä\" : \"ae\",\n",
    "    \"ö\" : \"oe\",\n",
    "    \"ü\" : \"ue\",\n",
    "    \"Ä\" : \"Ae\",\n",
    "    \"Ö\" : \"Oe\",\n",
    "    \"Ü\" : \"Ue\", \n",
    "    \"ł\" : \"l\",\n",
    "    \"ō\" : \"o\",\n",
    "}\n",
    "#3.0\n",
    "#read data from a URL\n",
    "def parse_delimited_file(file_url, delimiter):\n",
    "    response = requests.get(file_url)\n",
    "    if response.status_code == 200:\n",
    "        lines = response.text.split('\\n')\n",
    "    else:\n",
    "        print('Failed to fetch the file from GitHub.')\n",
    "        return\n",
    "    lines = [line.rstrip('\\n') for line in lines if line.strip()]  # Skip empty lines\n",
    "    return lines\n",
    "\n",
    "file_url = \"https://raw.githubusercontent.com/cosc-526/home.page/main/data.M.1.exercise.csv\"\n",
    "lines = parse_delimited_file(file_url, delimiter=\",\")\n",
    "\n",
    "#3.1\n",
    "#with open(\"data.exercise.M.1.csv\", 'r', encoding='utf8') as csvfile:\n",
    "#    lines = csvfile.readlines()\n",
    "#3.2\n",
    "# Strip off the newline from the end of each line\n",
    "lines = [line.rstrip() for line in lines]\n",
    "\n",
    "#3.3   \n",
    "# Split each line based on the delimiter (which, in this case, is the comma)\n",
    "split_lines = [line.split(\",\") for line in lines]\n",
    "\n",
    "#3.4\n",
    "# Separate the header from the data\n",
    "header = split_lines[0]\n",
    "data_lines = split_lines[1:]\n",
    "    \n",
    "#3.5    \n",
    "# Find \"name\" within the header\n",
    "name_index = header.index(\"name\")\n",
    "\n",
    "#3.6\n",
    "# Extract the names from the rows\n",
    "unicode_names = [line[name_index] for line in data_lines]\n",
    "\n",
    "#3.7\n",
    "# Iterate over the names\n",
    "translit_names = []\n",
    "for unicode_name in unicode_names:\n",
    "    # Perform the replacements in the translit_dict\n",
    "    # HINT: ref [1]\n",
    "    translit_name = unicode_name\n",
    "    for key, value in translit_dict.items():\n",
    "        translit_name = translit_name.replace(key, value)\n",
    "    translit_names.append(translit_name)\n",
    "\n",
    "#3.8\n",
    "# Write out the names to a file named \"data-ascii.txt\"\n",
    "# HINT: ref [2]\n",
    "with open(\"data.exercise.M.1.ascii.txt\", 'w') as outfile:\n",
    "    for name in translit_names:\n",
    "        outfile.write(name + \"\\n\")\n",
    "#3.9\n",
    "# Verify that the names were converted and written out correctly\n",
    "with open(\"data.exercise.M.1.ascii.txt\", 'r') as infile:\n",
    "    for line in infile:\n",
    "        print(line.rstrip())"
   ]
  },
  {
   "cell_type": "markdown",
   "id": "zmOzzRTl4l4P",
   "metadata": {
    "id": "zmOzzRTl4l4P"
   },
   "source": [
    "Reflections Lines 3.__\n",
    "1. This loads the CSV file from disk. It is commented out since we have already fetched from a URL. The utf8 encoding ensures we do not erroneously interpret the values using an ASCII encoding. (ASCII only uses 1 byte vs UTF8 1-4 bytes per char)\n",
    "2. Uses listcomp to strip newline... I am familiar with this\n",
    "3. Uses another listcomp to create a nested \"list of lists\" by splitting where commas are... also familiar with this.\n",
    "4. Uses slicing to create seperate references to the header and data lines\n",
    "5. The `.index` method of a list finds the position of the element within the list, if it exists. This tells us the \"column\" of data that contains the name.\n",
    "6. Use listcomp to get a list of names, still with the unicode characters\n",
    "7. Iterating over dictionary key-value pairs, use the `.replace` string method to substitute all non-english letters with their ASCII equivalent. The `.replace` method does not care about the number of occurrences, which suits our purpose.\n",
    "8. Persist the lines to file, adding a newline at the end of each row\n",
    "9. Read this same file, printing the contents to screen.\n",
    "\n",
    "\n",
    "**Expected output**\n",
    "```\n",
    "Richard Phillips Feynman\n",
    "Shin'ichiro Tomonaga\n",
    "Julian Schwinger\n",
    "Rudolf Ludwig Moessbauer\n",
    "Erwin Schroedinger\n",
    "Paul Dirac\n",
    "Maria Sklodowska-Curie\n",
    "Pierre Curie\n",
    "```"
   ]
  }
 ],
 "metadata": {
  "colab": {
   "collapsed_sections": [
    "el9sjRdm9gjv",
    "7o91Ig5QKVif",
    "MqZm_iFTPI7f",
    "JfIew_dgmpCQ",
    "kRoOscDyqoCO",
    "wcrKuRsWXUW1",
    "913dpFR0Fp1E",
    "kjA00fVqPjEm"
   ],
   "provenance": []
  },
  "kernelspec": {
   "display_name": "Python 3 (ipykernel)",
   "language": "python",
   "name": "python3"
  },
  "language_info": {
   "codemirror_mode": {
    "name": "ipython",
    "version": 3
   },
   "file_extension": ".py",
   "mimetype": "text/x-python",
   "name": "python",
   "nbconvert_exporter": "python",
   "pygments_lexer": "ipython3",
   "version": "3.11.2"
  }
 },
 "nbformat": 4,
 "nbformat_minor": 5
}
